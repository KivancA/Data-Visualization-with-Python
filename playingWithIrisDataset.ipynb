{
 "cells": [
  {
   "cell_type": "code",
   "execution_count": 55,
   "id": "2a3583cc",
   "metadata": {},
   "outputs": [],
   "source": [
    "#KIVANÇ ADIGÜZEL 191180003 ASSIGNMENT 3\n",
    "#THERE ARE 3 QUESTIONS BUT I MADE SOME EXTRA MOVES FOR CHECKING DETAILS WHICH DIDNOT EFFECT THE RIGHT ANSWERS--ALL IS DONE\n",
    "import sklearn as sl\n",
    "import pandas as pd\n",
    "import numpy as np\n",
    "from matplotlib import pyplot as plot\n",
    "import seaborn as sb\n",
    "from sklearn import datasets\n",
    "from sklearn.model_selection import train_test_split\n",
    "#RandomForestClassifier\n",
    "from sklearn.ensemble import RandomForestClassifier\n",
    "from sklearn.tree import export_graphviz\n"
   ]
  },
  {
   "cell_type": "code",
   "execution_count": 56,
   "id": "d6d77c0c",
   "metadata": {},
   "outputs": [
    {
     "name": "stdout",
     "output_type": "stream",
     "text": [
      "<class 'pandas.core.frame.DataFrame'>\n",
      "RangeIndex: 150 entries, 0 to 149\n",
      "Data columns (total 5 columns):\n",
      " #   Column             Non-Null Count  Dtype  \n",
      "---  ------             --------------  -----  \n",
      " 0   sepal length (cm)  150 non-null    float64\n",
      " 1   sepal width (cm)   150 non-null    float64\n",
      " 2   petal length (cm)  150 non-null    float64\n",
      " 3   petal width (cm)   150 non-null    float64\n",
      " 4   species            150 non-null    int32  \n",
      "dtypes: float64(4), int32(1)\n",
      "memory usage: 5.4 KB\n"
     ]
    },
    {
     "data": {
      "text/plain": [
       "Index(['sepal length (cm)', 'sepal width (cm)', 'petal length (cm)',\n",
       "       'petal width (cm)', 'species'],\n",
       "      dtype='object')"
      ]
     },
     "execution_count": 56,
     "metadata": {},
     "output_type": "execute_result"
    }
   ],
   "source": [
    "#iris dataset\n",
    "irisData = datasets.load_iris()\n",
    "\n",
    "#CREATING DF \n",
    "irisDAF = pd.DataFrame(irisData.data, columns= irisData.feature_names)\n",
    "\n",
    "#SPECIES TO DF\n",
    "irisDAF['species'] =  irisData.target\n",
    "irisDAF.info()\n",
    "irisDAF.keys()"
   ]
  },
  {
   "cell_type": "code",
   "execution_count": 57,
   "id": "3941b2f4",
   "metadata": {},
   "outputs": [],
   "source": [
    "from sklearn.utils import shuffle\n",
    "#Randomizing data according the document \n",
    "irisDAF = shuffle(irisDAF)"
   ]
  },
  {
   "cell_type": "code",
   "execution_count": 58,
   "id": "78a4aefa",
   "metadata": {},
   "outputs": [],
   "source": [
    "# X AND Y FOR (SPECIES COLUMN AND OTHER VALUES)\n",
    "X= irisDAF[['sepal length (cm)','sepal width (cm)','petal length (cm)','petal width (cm)']]\n",
    "y = irisDAF['species']\n",
    "# %75 TRAIN  %25 TEST SPLIT\n",
    "tra_X, test_X, tra_y, test_y = train_test_split(X,y, test_size = 0.25,shuffle = 1)\n",
    "\n"
   ]
  },
  {
   "cell_type": "code",
   "execution_count": 59,
   "id": "f49a3e0a",
   "metadata": {},
   "outputs": [],
   "source": [
    "#RF CLASSIFIER AND MODEL TRAINIG \n",
    "model = RandomForestClassifier(n_estimators=10, criterion= 'gini')\n",
    "model.fit(tra_X,tra_y)\n",
    "#Import Random Forest Model\n",
    "from sklearn.ensemble import RandomForestClassifier\n",
    "y_pred=model.predict(test_X)"
   ]
  },
  {
   "cell_type": "code",
   "execution_count": 60,
   "id": "af7aac27",
   "metadata": {},
   "outputs": [
    {
     "name": "stdout",
     "output_type": "stream",
     "text": [
      "[0 0 0 0 0 0 0 0 0 0 0 0 0 0 0 0 0 0 0 0 0 0 0 0 0 0 0 0 0 0 0 0 0 0 0 0 0\n",
      " 0 0 0 0 0 0 0 0 0 0 0 0 0 1 1 1 1 1 1 1 1 1 1 1 1 1 1 1 1 1 1 1 1 1 1 1 1\n",
      " 1 1 1 1 1 1 1 1 1 1 1 1 1 1 1 1 1 1 1 1 1 1 1 1 1 1 2 2 2 2 2 2 2 2 2 2 2\n",
      " 2 2 2 2 2 2 2 2 2 2 2 2 2 2 2 2 2 2 2 2 2 2 2 2 2 2 2 2 2 2 2 2 2 2 2 2 2\n",
      " 2 2]\n"
     ]
    }
   ],
   "source": [
    "# print the iris labels (0:setosa, 1:versicolor, 2:virginica)\n",
    "print(irisData.target)\n"
   ]
  },
  {
   "cell_type": "code",
   "execution_count": 61,
   "id": "57dbd4a3",
   "metadata": {},
   "outputs": [
    {
     "data": {
      "text/html": [
       "<div>\n",
       "<style scoped>\n",
       "    .dataframe tbody tr th:only-of-type {\n",
       "        vertical-align: middle;\n",
       "    }\n",
       "\n",
       "    .dataframe tbody tr th {\n",
       "        vertical-align: top;\n",
       "    }\n",
       "\n",
       "    .dataframe thead th {\n",
       "        text-align: right;\n",
       "    }\n",
       "</style>\n",
       "<table border=\"1\" class=\"dataframe\">\n",
       "  <thead>\n",
       "    <tr style=\"text-align: right;\">\n",
       "      <th></th>\n",
       "      <th>sepal length</th>\n",
       "      <th>sepal width</th>\n",
       "      <th>petal length</th>\n",
       "      <th>petal width</th>\n",
       "      <th>species</th>\n",
       "    </tr>\n",
       "  </thead>\n",
       "  <tbody>\n",
       "    <tr>\n",
       "      <th>0</th>\n",
       "      <td>5.1</td>\n",
       "      <td>3.5</td>\n",
       "      <td>1.4</td>\n",
       "      <td>0.2</td>\n",
       "      <td>0</td>\n",
       "    </tr>\n",
       "    <tr>\n",
       "      <th>1</th>\n",
       "      <td>4.9</td>\n",
       "      <td>3.0</td>\n",
       "      <td>1.4</td>\n",
       "      <td>0.2</td>\n",
       "      <td>0</td>\n",
       "    </tr>\n",
       "    <tr>\n",
       "      <th>2</th>\n",
       "      <td>4.7</td>\n",
       "      <td>3.2</td>\n",
       "      <td>1.3</td>\n",
       "      <td>0.2</td>\n",
       "      <td>0</td>\n",
       "    </tr>\n",
       "    <tr>\n",
       "      <th>3</th>\n",
       "      <td>4.6</td>\n",
       "      <td>3.1</td>\n",
       "      <td>1.5</td>\n",
       "      <td>0.2</td>\n",
       "      <td>0</td>\n",
       "    </tr>\n",
       "    <tr>\n",
       "      <th>4</th>\n",
       "      <td>5.0</td>\n",
       "      <td>3.6</td>\n",
       "      <td>1.4</td>\n",
       "      <td>0.2</td>\n",
       "      <td>0</td>\n",
       "    </tr>\n",
       "  </tbody>\n",
       "</table>\n",
       "</div>"
      ],
      "text/plain": [
       "   sepal length  sepal width  petal length  petal width  species\n",
       "0           5.1          3.5           1.4          0.2        0\n",
       "1           4.9          3.0           1.4          0.2        0\n",
       "2           4.7          3.2           1.3          0.2        0\n",
       "3           4.6          3.1           1.5          0.2        0\n",
       "4           5.0          3.6           1.4          0.2        0"
      ]
     },
     "execution_count": 61,
     "metadata": {},
     "output_type": "execute_result"
    }
   ],
   "source": [
    "# SHOW DF\n",
    "import pandas as pd\n",
    "data=pd.DataFrame({\n",
    "    'sepal length':irisData.data[:,0],\n",
    "    'sepal width':irisData.data[:,1],\n",
    "    'petal length':irisData.data[:,2],\n",
    "    'petal width':irisData.data[:,3],\n",
    "    'species':irisData.target\n",
    "})\n",
    "data.head()\n"
   ]
  },
  {
   "cell_type": "code",
   "execution_count": 62,
   "id": "f8e92c12",
   "metadata": {},
   "outputs": [
    {
     "data": {
      "text/plain": [
       "petal width (cm)     0.482218\n",
       "petal length (cm)    0.321213\n",
       "sepal length (cm)    0.133668\n",
       "sepal width (cm)     0.062902\n",
       "dtype: float64"
      ]
     },
     "execution_count": 62,
     "metadata": {},
     "output_type": "execute_result"
    }
   ],
   "source": [
    "#CHECKING THE DETAILS\n",
    "import pandas as pd\n",
    "feature_imp = pd.Series(model.feature_importances_,index=irisData.feature_names).sort_values(ascending=False)\n",
    "feature_imp\n"
   ]
  },
  {
   "cell_type": "code",
   "execution_count": 63,
   "id": "00f0680e",
   "metadata": {},
   "outputs": [
    {
     "data": {
      "image/png": "[encoded data removed]",
      "text/plain": [
       "<Figure size 640x480 with 1 Axes>"
      ]
     },
     "metadata": {},
     "output_type": "display_data"
    }
   ],
   "source": [
    "#that part is not in the our assignment,I did it for see the importance\n",
    "import matplotlib.pyplot as plt\n",
    "import seaborn as sns\n",
    "%matplotlib inline\n",
    "# Creating a bar plot\n",
    "sns.barplot(x=feature_imp, y=feature_imp.index)\n",
    "# Add labels to your graph\n",
    "plt.xlabel('IMPORTANCE SCORE GENERAL')\n",
    "plt.ylabel('FEATURES')\n",
    "plt.title(\"IMPORTANT FEATURES-VISUALIZATION\")\n",
    "plt.legend\n",
    "plt.show()"
   ]
  },
  {
   "cell_type": "code",
   "execution_count": 64,
   "id": "bce58a2d",
   "metadata": {},
   "outputs": [
    {
     "name": "stdout",
     "output_type": "stream",
     "text": [
      "              precision    recall  f1-score   support\n",
      "\n",
      "           0       1.00      1.00      1.00        14\n",
      "           1       0.91      1.00      0.95        10\n",
      "           2       1.00      0.93      0.96        14\n",
      "\n",
      "    accuracy                           0.97        38\n",
      "   macro avg       0.97      0.98      0.97        38\n",
      "weighted avg       0.98      0.97      0.97        38\n",
      "\n"
     ]
    }
   ],
   "source": [
    "#Report the accuracy, precision, recall\n",
    "# Importing classification report\n",
    "from sklearn.metrics import classification_report\n",
    "\n",
    "# printing the report\n",
    "print(classification_report(test_y, y_pred))"
   ]
  },
  {
   "cell_type": "code",
   "execution_count": 65,
   "id": "f989d33e",
   "metadata": {},
   "outputs": [
    {
     "name": "stdout",
     "output_type": "stream",
     "text": [
      "\tCONFUSION MATRIX\n"
     ]
    },
    {
     "data": {
      "image/png": "[encoded data removed]",
      "text/plain": [
       "<Figure size 1400x600 with 2 Axes>"
      ]
     },
     "metadata": {},
     "output_type": "display_data"
    }
   ],
   "source": [
    "# Predict Part---according to the test_x\n",
    "pred = model.predict(test_X)\n",
    "\n",
    "#FOR REPORT WE SHOULD IMPORT THEM\n",
    "from sklearn.metrics import accuracy_score, precision_score, recall_score, f1_score, confusion_matrix\n",
    "\n",
    "# CONF MATRIX\n",
    "matrix = confusion_matrix(test_y,pred)\n",
    "matrix = matrix.astype('float') / matrix.sum(axis=1)[:, np.newaxis]\n",
    "\n",
    "# VISUALIZE--purple better \n",
    "plot.figure(figsize=(14,6))\n",
    "sb.heatmap(matrix, annot=True,\n",
    "           annot_kws={'size':15},\n",
    "           cmap=plot.cm.Purples,\n",
    "           linewidths=0.2)\n",
    "plot.xlabel('PREDICTED')\n",
    "plot.ylabel('TRUE')\n",
    "plot.title('CONFUSION MATRIX-RF MODEL')\n",
    "print(\"\\tCONFUSION MATRIX\")\n",
    "plot.show()"
   ]
  },
  {
   "cell_type": "code",
   "execution_count": 66,
   "id": "f327f6a2",
   "metadata": {},
   "outputs": [
    {
     "data": {
      "image/svg+xml": [
       "<?xml version=\"1.0\" encoding=\"UTF-8\" standalone=\"no\"?>\n",
       "<!DOCTYPE svg PUBLIC \"-//W3C//DTD SVG 1.1//EN\"\n",
       " \"http://www.w3.org/Graphics/SVG/1.1/DTD/svg11.dtd\">\n",
       "<!-- Generated by graphviz version 2.38.0 (20140413.2041)\n",
       " -->\n",
       "<!-- Title: Tree Pages: 1 -->\n",
       "<svg width=\"642pt\" height=\"671pt\"\n",
       " viewBox=\"0.00 0.00 642.00 671.00\" xmlns=\"http://www.w3.org/2000/svg\" xmlns:xlink=\"http://www.w3.org/1999/xlink\">\n",
       "<g id=\"graph0\" class=\"graph\" transform=\"scale(1 1) rotate(0) translate(4 667)\">\n",
       "<title>Tree</title>\n",
       "<polygon fill=\"white\" stroke=\"none\" points=\"-4,4 -4,-667 638,-667 638,4 -4,4\"/>\n",
       "<!-- 0 -->\n",
       "<g id=\"node1\" class=\"node\"><title>0</title>\n",
       "<path fill=\"#f5effd\" stroke=\"black\" d=\"M298.5,-663C298.5,-663 162.5,-663 162.5,-663 156.5,-663 150.5,-657 150.5,-651 150.5,-651 150.5,-592 150.5,-592 150.5,-586 156.5,-580 162.5,-580 162.5,-580 298.5,-580 298.5,-580 304.5,-580 310.5,-586 310.5,-592 310.5,-592 310.5,-651 310.5,-651 310.5,-657 304.5,-663 298.5,-663\"/>\n",
       "<text text-anchor=\"middle\" x=\"230.5\" y=\"-647.8\" font-family=\"Helvetica,sans-Serif\" font-size=\"14.00\">petal width (cm) &lt;= 0.8</text>\n",
       "<text text-anchor=\"middle\" x=\"230.5\" y=\"-632.8\" font-family=\"Helvetica,sans-Serif\" font-size=\"14.00\">gini = 0.66</text>\n",
       "<text text-anchor=\"middle\" x=\"230.5\" y=\"-617.8\" font-family=\"Helvetica,sans-Serif\" font-size=\"14.00\">samples = 75</text>\n",
       "<text text-anchor=\"middle\" x=\"230.5\" y=\"-602.8\" font-family=\"Helvetica,sans-Serif\" font-size=\"14.00\">value = [32, 37, 43]</text>\n",
       "<text text-anchor=\"middle\" x=\"230.5\" y=\"-587.8\" font-family=\"Helvetica,sans-Serif\" font-size=\"14.00\">class = virginica</text>\n",
       "</g>\n",
       "<!-- 1 -->\n",
       "<g id=\"node2\" class=\"node\"><title>1</title>\n",
       "<path fill=\"#e58139\" stroke=\"black\" d=\"M195,-536.5C195,-536.5 98,-536.5 98,-536.5 92,-536.5 86,-530.5 86,-524.5 86,-524.5 86,-480.5 86,-480.5 86,-474.5 92,-468.5 98,-468.5 98,-468.5 195,-468.5 195,-468.5 201,-468.5 207,-474.5 207,-480.5 207,-480.5 207,-524.5 207,-524.5 207,-530.5 201,-536.5 195,-536.5\"/>\n",
       "<text text-anchor=\"middle\" x=\"146.5\" y=\"-521.3\" font-family=\"Helvetica,sans-Serif\" font-size=\"14.00\">gini = 0.0</text>\n",
       "<text text-anchor=\"middle\" x=\"146.5\" y=\"-506.3\" font-family=\"Helvetica,sans-Serif\" font-size=\"14.00\">samples = 23</text>\n",
       "<text text-anchor=\"middle\" x=\"146.5\" y=\"-491.3\" font-family=\"Helvetica,sans-Serif\" font-size=\"14.00\">value = [32, 0, 0]</text>\n",
       "<text text-anchor=\"middle\" x=\"146.5\" y=\"-476.3\" font-family=\"Helvetica,sans-Serif\" font-size=\"14.00\">class = setosa</text>\n",
       "</g>\n",
       "<!-- 0&#45;&gt;1 -->\n",
       "<g id=\"edge1\" class=\"edge\"><title>0&#45;&gt;1</title>\n",
       "<path fill=\"none\" stroke=\"black\" d=\"M201.357,-579.907C193.276,-568.652 184.493,-556.418 176.371,-545.106\"/>\n",
       "<polygon fill=\"black\" stroke=\"black\" points=\"178.987,-542.749 170.312,-536.667 173.301,-546.831 178.987,-542.749\"/>\n",
       "<text text-anchor=\"middle\" x=\"166.262\" y=\"-557.637\" font-family=\"Helvetica,sans-Serif\" font-size=\"14.00\">True</text>\n",
       "</g>\n",
       "<!-- 2 -->\n",
       "<g id=\"node3\" class=\"node\"><title>2</title>\n",
       "<path fill=\"#ede3fb\" stroke=\"black\" d=\"M391.5,-544C391.5,-544 237.5,-544 237.5,-544 231.5,-544 225.5,-538 225.5,-532 225.5,-532 225.5,-473 225.5,-473 225.5,-467 231.5,-461 237.5,-461 237.5,-461 391.5,-461 391.5,-461 397.5,-461 403.5,-467 403.5,-473 403.5,-473 403.5,-532 403.5,-532 403.5,-538 397.5,-544 391.5,-544\"/>\n",
       "<text text-anchor=\"middle\" x=\"314.5\" y=\"-528.8\" font-family=\"Helvetica,sans-Serif\" font-size=\"14.00\">sepal length (cm) &lt;= 6.15</text>\n",
       "<text text-anchor=\"middle\" x=\"314.5\" y=\"-513.8\" font-family=\"Helvetica,sans-Serif\" font-size=\"14.00\">gini = 0.5</text>\n",
       "<text text-anchor=\"middle\" x=\"314.5\" y=\"-498.8\" font-family=\"Helvetica,sans-Serif\" font-size=\"14.00\">samples = 52</text>\n",
       "<text text-anchor=\"middle\" x=\"314.5\" y=\"-483.8\" font-family=\"Helvetica,sans-Serif\" font-size=\"14.00\">value = [0, 37, 43]</text>\n",
       "<text text-anchor=\"middle\" x=\"314.5\" y=\"-468.8\" font-family=\"Helvetica,sans-Serif\" font-size=\"14.00\">class = virginica</text>\n",
       "</g>\n",
       "<!-- 0&#45;&gt;2 -->\n",
       "<g id=\"edge2\" class=\"edge\"><title>0&#45;&gt;2</title>\n",
       "<path fill=\"none\" stroke=\"black\" d=\"M259.643,-579.907C266.029,-571.014 272.852,-561.509 279.442,-552.331\"/>\n",
       "<polygon fill=\"black\" stroke=\"black\" points=\"282.419,-554.185 285.408,-544.021 276.733,-550.103 282.419,-554.185\"/>\n",
       "<text text-anchor=\"middle\" x=\"289.458\" y=\"-564.991\" font-family=\"Helvetica,sans-Serif\" font-size=\"14.00\">False</text>\n",
       "</g>\n",
       "<!-- 3 -->\n",
       "<g id=\"node4\" class=\"node\"><title>3</title>\n",
       "<path fill=\"#8af0b5\" stroke=\"black\" d=\"M294.5,-425C294.5,-425 146.5,-425 146.5,-425 140.5,-425 134.5,-419 134.5,-413 134.5,-413 134.5,-354 134.5,-354 134.5,-348 140.5,-342 146.5,-342 146.5,-342 294.5,-342 294.5,-342 300.5,-342 306.5,-348 306.5,-354 306.5,-354 306.5,-413 306.5,-413 306.5,-419 300.5,-425 294.5,-425\"/>\n",
       "<text text-anchor=\"middle\" x=\"220.5\" y=\"-409.8\" font-family=\"Helvetica,sans-Serif\" font-size=\"14.00\">sepal width (cm) &lt;= 2.25</text>\n",
       "<text text-anchor=\"middle\" x=\"220.5\" y=\"-394.8\" font-family=\"Helvetica,sans-Serif\" font-size=\"14.00\">gini = 0.41</text>\n",
       "<text text-anchor=\"middle\" x=\"220.5\" y=\"-379.8\" font-family=\"Helvetica,sans-Serif\" font-size=\"14.00\">samples = 22</text>\n",
       "<text text-anchor=\"middle\" x=\"220.5\" y=\"-364.8\" font-family=\"Helvetica,sans-Serif\" font-size=\"14.00\">value = [0, 22, 9]</text>\n",
       "<text text-anchor=\"middle\" x=\"220.5\" y=\"-349.8\" font-family=\"Helvetica,sans-Serif\" font-size=\"14.00\">class = versicolor</text>\n",
       "</g>\n",
       "<!-- 2&#45;&gt;3 -->\n",
       "<g id=\"edge3\" class=\"edge\"><title>2&#45;&gt;3</title>\n",
       "<path fill=\"none\" stroke=\"black\" d=\"M281.887,-460.907C274.669,-451.923 266.95,-442.315 259.506,-433.05\"/>\n",
       "<polygon fill=\"black\" stroke=\"black\" points=\"262.047,-430.624 253.055,-425.021 256.59,-435.009 262.047,-430.624\"/>\n",
       "</g>\n",
       "<!-- 10 -->\n",
       "<g id=\"node11\" class=\"node\"><title>10</title>\n",
       "<path fill=\"#b990f0\" stroke=\"black\" d=\"M480.5,-425C480.5,-425 336.5,-425 336.5,-425 330.5,-425 324.5,-419 324.5,-413 324.5,-413 324.5,-354 324.5,-354 324.5,-348 330.5,-342 336.5,-342 336.5,-342 480.5,-342 480.5,-342 486.5,-342 492.5,-348 492.5,-354 492.5,-354 492.5,-413 492.5,-413 492.5,-419 486.5,-425 480.5,-425\"/>\n",
       "<text text-anchor=\"middle\" x=\"408.5\" y=\"-409.8\" font-family=\"Helvetica,sans-Serif\" font-size=\"14.00\">petal width (cm) &lt;= 1.75</text>\n",
       "<text text-anchor=\"middle\" x=\"408.5\" y=\"-394.8\" font-family=\"Helvetica,sans-Serif\" font-size=\"14.00\">gini = 0.42</text>\n",
       "<text text-anchor=\"middle\" x=\"408.5\" y=\"-379.8\" font-family=\"Helvetica,sans-Serif\" font-size=\"14.00\">samples = 30</text>\n",
       "<text text-anchor=\"middle\" x=\"408.5\" y=\"-364.8\" font-family=\"Helvetica,sans-Serif\" font-size=\"14.00\">value = [0, 15, 34]</text>\n",
       "<text text-anchor=\"middle\" x=\"408.5\" y=\"-349.8\" font-family=\"Helvetica,sans-Serif\" font-size=\"14.00\">class = virginica</text>\n",
       "</g>\n",
       "<!-- 2&#45;&gt;10 -->\n",
       "<g id=\"edge10\" class=\"edge\"><title>2&#45;&gt;10</title>\n",
       "<path fill=\"none\" stroke=\"black\" d=\"M347.113,-460.907C354.331,-451.923 362.05,-442.315 369.494,-433.05\"/>\n",
       "<polygon fill=\"black\" stroke=\"black\" points=\"372.41,-435.009 375.945,-425.021 366.953,-430.624 372.41,-435.009\"/>\n",
       "</g>\n",
       "<!-- 4 -->\n",
       "<g id=\"node5\" class=\"node\"><title>4</title>\n",
       "<path fill=\"#8139e5\" stroke=\"black\" d=\"M111.5,-298.5C111.5,-298.5 19.5,-298.5 19.5,-298.5 13.5,-298.5 7.5,-292.5 7.5,-286.5 7.5,-286.5 7.5,-242.5 7.5,-242.5 7.5,-236.5 13.5,-230.5 19.5,-230.5 19.5,-230.5 111.5,-230.5 111.5,-230.5 117.5,-230.5 123.5,-236.5 123.5,-242.5 123.5,-242.5 123.5,-286.5 123.5,-286.5 123.5,-292.5 117.5,-298.5 111.5,-298.5\"/>\n",
       "<text text-anchor=\"middle\" x=\"65.5\" y=\"-283.3\" font-family=\"Helvetica,sans-Serif\" font-size=\"14.00\">gini = 0.0</text>\n",
       "<text text-anchor=\"middle\" x=\"65.5\" y=\"-268.3\" font-family=\"Helvetica,sans-Serif\" font-size=\"14.00\">samples = 1</text>\n",
       "<text text-anchor=\"middle\" x=\"65.5\" y=\"-253.3\" font-family=\"Helvetica,sans-Serif\" font-size=\"14.00\">value = [0, 0, 2]</text>\n",
       "<text text-anchor=\"middle\" x=\"65.5\" y=\"-238.3\" font-family=\"Helvetica,sans-Serif\" font-size=\"14.00\">class = virginica</text>\n",
       "</g>\n",
       "<!-- 3&#45;&gt;4 -->\n",
       "<g id=\"edge4\" class=\"edge\"><title>3&#45;&gt;4</title>\n",
       "<path fill=\"none\" stroke=\"black\" d=\"M166.724,-341.907C150.79,-329.88 133.375,-316.735 117.552,-304.791\"/>\n",
       "<polygon fill=\"black\" stroke=\"black\" points=\"119.529,-301.898 109.439,-298.667 115.312,-307.485 119.529,-301.898\"/>\n",
       "</g>\n",
       "<!-- 5 -->\n",
       "<g id=\"node6\" class=\"node\"><title>5</title>\n",
       "<path fill=\"#78eda9\" stroke=\"black\" d=\"M289.5,-306C289.5,-306 153.5,-306 153.5,-306 147.5,-306 141.5,-300 141.5,-294 141.5,-294 141.5,-235 141.5,-235 141.5,-229 147.5,-223 153.5,-223 153.5,-223 289.5,-223 289.5,-223 295.5,-223 301.5,-229 301.5,-235 301.5,-235 301.5,-294 301.5,-294 301.5,-300 295.5,-306 289.5,-306\"/>\n",
       "<text text-anchor=\"middle\" x=\"221.5\" y=\"-290.8\" font-family=\"Helvetica,sans-Serif\" font-size=\"14.00\">petal width (cm) &lt;= 1.6</text>\n",
       "<text text-anchor=\"middle\" x=\"221.5\" y=\"-275.8\" font-family=\"Helvetica,sans-Serif\" font-size=\"14.00\">gini = 0.37</text>\n",
       "<text text-anchor=\"middle\" x=\"221.5\" y=\"-260.8\" font-family=\"Helvetica,sans-Serif\" font-size=\"14.00\">samples = 21</text>\n",
       "<text text-anchor=\"middle\" x=\"221.5\" y=\"-245.8\" font-family=\"Helvetica,sans-Serif\" font-size=\"14.00\">value = [0, 22, 7]</text>\n",
       "<text text-anchor=\"middle\" x=\"221.5\" y=\"-230.8\" font-family=\"Helvetica,sans-Serif\" font-size=\"14.00\">class = versicolor</text>\n",
       "</g>\n",
       "<!-- 3&#45;&gt;5 -->\n",
       "<g id=\"edge5\" class=\"edge\"><title>3&#45;&gt;5</title>\n",
       "<path fill=\"none\" stroke=\"black\" d=\"M220.847,-341.907C220.918,-333.649 220.993,-324.864 221.066,-316.302\"/>\n",
       "<polygon fill=\"black\" stroke=\"black\" points=\"224.568,-316.05 221.154,-306.021 217.568,-315.99 224.568,-316.05\"/>\n",
       "</g>\n",
       "<!-- 6 -->\n",
       "<g id=\"node7\" class=\"node\"><title>6</title>\n",
       "<path fill=\"#39e581\" stroke=\"black\" d=\"M115,-179.5C115,-179.5 12,-179.5 12,-179.5 6,-179.5 -7.10543e-015,-173.5 -7.10543e-015,-167.5 -7.10543e-015,-167.5 -7.10543e-015,-123.5 -7.10543e-015,-123.5 -7.10543e-015,-117.5 6,-111.5 12,-111.5 12,-111.5 115,-111.5 115,-111.5 121,-111.5 127,-117.5 127,-123.5 127,-123.5 127,-167.5 127,-167.5 127,-173.5 121,-179.5 115,-179.5\"/>\n",
       "<text text-anchor=\"middle\" x=\"63.5\" y=\"-164.3\" font-family=\"Helvetica,sans-Serif\" font-size=\"14.00\">gini = 0.0</text>\n",
       "<text text-anchor=\"middle\" x=\"63.5\" y=\"-149.3\" font-family=\"Helvetica,sans-Serif\" font-size=\"14.00\">samples = 16</text>\n",
       "<text text-anchor=\"middle\" x=\"63.5\" y=\"-134.3\" font-family=\"Helvetica,sans-Serif\" font-size=\"14.00\">value = [0, 20, 0]</text>\n",
       "<text text-anchor=\"middle\" x=\"63.5\" y=\"-119.3\" font-family=\"Helvetica,sans-Serif\" font-size=\"14.00\">class = versicolor</text>\n",
       "</g>\n",
       "<!-- 5&#45;&gt;6 -->\n",
       "<g id=\"edge6\" class=\"edge\"><title>5&#45;&gt;6</title>\n",
       "<path fill=\"none\" stroke=\"black\" d=\"M166.683,-222.907C150.44,-210.88 132.689,-197.735 116.559,-185.791\"/>\n",
       "<polygon fill=\"black\" stroke=\"black\" points=\"118.409,-182.805 108.29,-179.667 114.243,-188.431 118.409,-182.805\"/>\n",
       "</g>\n",
       "<!-- 7 -->\n",
       "<g id=\"node8\" class=\"node\"><title>7</title>\n",
       "<path fill=\"#a572ec\" stroke=\"black\" d=\"M297.5,-187C297.5,-187 157.5,-187 157.5,-187 151.5,-187 145.5,-181 145.5,-175 145.5,-175 145.5,-116 145.5,-116 145.5,-110 151.5,-104 157.5,-104 157.5,-104 297.5,-104 297.5,-104 303.5,-104 309.5,-110 309.5,-116 309.5,-116 309.5,-175 309.5,-175 309.5,-181 303.5,-187 297.5,-187\"/>\n",
       "<text text-anchor=\"middle\" x=\"227.5\" y=\"-171.8\" font-family=\"Helvetica,sans-Serif\" font-size=\"14.00\">sepal width (cm) &lt;= 3.1</text>\n",
       "<text text-anchor=\"middle\" x=\"227.5\" y=\"-156.8\" font-family=\"Helvetica,sans-Serif\" font-size=\"14.00\">gini = 0.35</text>\n",
       "<text text-anchor=\"middle\" x=\"227.5\" y=\"-141.8\" font-family=\"Helvetica,sans-Serif\" font-size=\"14.00\">samples = 5</text>\n",
       "<text text-anchor=\"middle\" x=\"227.5\" y=\"-126.8\" font-family=\"Helvetica,sans-Serif\" font-size=\"14.00\">value = [0, 2, 7]</text>\n",
       "<text text-anchor=\"middle\" x=\"227.5\" y=\"-111.8\" font-family=\"Helvetica,sans-Serif\" font-size=\"14.00\">class = virginica</text>\n",
       "</g>\n",
       "<!-- 5&#45;&gt;7 -->\n",
       "<g id=\"edge7\" class=\"edge\"><title>5&#45;&gt;7</title>\n",
       "<path fill=\"none\" stroke=\"black\" d=\"M223.582,-222.907C224.01,-214.558 224.466,-205.671 224.909,-197.02\"/>\n",
       "<polygon fill=\"black\" stroke=\"black\" points=\"228.405,-197.187 225.422,-187.021 221.414,-196.828 228.405,-197.187\"/>\n",
       "</g>\n",
       "<!-- 8 -->\n",
       "<g id=\"node9\" class=\"node\"><title>8</title>\n",
       "<path fill=\"#8139e5\" stroke=\"black\" d=\"M203.5,-68C203.5,-68 111.5,-68 111.5,-68 105.5,-68 99.5,-62 99.5,-56 99.5,-56 99.5,-12 99.5,-12 99.5,-6 105.5,-0 111.5,-0 111.5,-0 203.5,-0 203.5,-0 209.5,-0 215.5,-6 215.5,-12 215.5,-12 215.5,-56 215.5,-56 215.5,-62 209.5,-68 203.5,-68\"/>\n",
       "<text text-anchor=\"middle\" x=\"157.5\" y=\"-52.8\" font-family=\"Helvetica,sans-Serif\" font-size=\"14.00\">gini = 0.0</text>\n",
       "<text text-anchor=\"middle\" x=\"157.5\" y=\"-37.8\" font-family=\"Helvetica,sans-Serif\" font-size=\"14.00\">samples = 4</text>\n",
       "<text text-anchor=\"middle\" x=\"157.5\" y=\"-22.8\" font-family=\"Helvetica,sans-Serif\" font-size=\"14.00\">value = [0, 0, 7]</text>\n",
       "<text text-anchor=\"middle\" x=\"157.5\" y=\"-7.8\" font-family=\"Helvetica,sans-Serif\" font-size=\"14.00\">class = virginica</text>\n",
       "</g>\n",
       "<!-- 7&#45;&gt;8 -->\n",
       "<g id=\"edge8\" class=\"edge\"><title>7&#45;&gt;8</title>\n",
       "<path fill=\"none\" stroke=\"black\" d=\"M201.435,-103.726C195.837,-94.9703 189.913,-85.7032 184.289,-76.9051\"/>\n",
       "<polygon fill=\"black\" stroke=\"black\" points=\"187.123,-74.8399 178.787,-68.2996 181.225,-78.6103 187.123,-74.8399\"/>\n",
       "</g>\n",
       "<!-- 9 -->\n",
       "<g id=\"node10\" class=\"node\"><title>9</title>\n",
       "<path fill=\"#39e581\" stroke=\"black\" d=\"M349,-68C349,-68 246,-68 246,-68 240,-68 234,-62 234,-56 234,-56 234,-12 234,-12 234,-6 240,-0 246,-0 246,-0 349,-0 349,-0 355,-0 361,-6 361,-12 361,-12 361,-56 361,-56 361,-62 355,-68 349,-68\"/>\n",
       "<text text-anchor=\"middle\" x=\"297.5\" y=\"-52.8\" font-family=\"Helvetica,sans-Serif\" font-size=\"14.00\">gini = 0.0</text>\n",
       "<text text-anchor=\"middle\" x=\"297.5\" y=\"-37.8\" font-family=\"Helvetica,sans-Serif\" font-size=\"14.00\">samples = 1</text>\n",
       "<text text-anchor=\"middle\" x=\"297.5\" y=\"-22.8\" font-family=\"Helvetica,sans-Serif\" font-size=\"14.00\">value = [0, 2, 0]</text>\n",
       "<text text-anchor=\"middle\" x=\"297.5\" y=\"-7.8\" font-family=\"Helvetica,sans-Serif\" font-size=\"14.00\">class = versicolor</text>\n",
       "</g>\n",
       "<!-- 7&#45;&gt;9 -->\n",
       "<g id=\"edge9\" class=\"edge\"><title>7&#45;&gt;9</title>\n",
       "<path fill=\"none\" stroke=\"black\" d=\"M253.565,-103.726C259.163,-94.9703 265.087,-85.7032 270.711,-76.9051\"/>\n",
       "<polygon fill=\"black\" stroke=\"black\" points=\"273.775,-78.6103 276.213,-68.2996 267.877,-74.8399 273.775,-78.6103\"/>\n",
       "</g>\n",
       "<!-- 11 -->\n",
       "<g id=\"node12\" class=\"node\"><title>11</title>\n",
       "<path fill=\"#53e892\" stroke=\"black\" d=\"M482.5,-306C482.5,-306 332.5,-306 332.5,-306 326.5,-306 320.5,-300 320.5,-294 320.5,-294 320.5,-235 320.5,-235 320.5,-229 326.5,-223 332.5,-223 332.5,-223 482.5,-223 482.5,-223 488.5,-223 494.5,-229 494.5,-235 494.5,-235 494.5,-294 494.5,-294 494.5,-300 488.5,-306 482.5,-306\"/>\n",
       "<text text-anchor=\"middle\" x=\"407.5\" y=\"-290.8\" font-family=\"Helvetica,sans-Serif\" font-size=\"14.00\">petal length (cm) &lt;= 5.05</text>\n",
       "<text text-anchor=\"middle\" x=\"407.5\" y=\"-275.8\" font-family=\"Helvetica,sans-Serif\" font-size=\"14.00\">gini = 0.21</text>\n",
       "<text text-anchor=\"middle\" x=\"407.5\" y=\"-260.8\" font-family=\"Helvetica,sans-Serif\" font-size=\"14.00\">samples = 10</text>\n",
       "<text text-anchor=\"middle\" x=\"407.5\" y=\"-245.8\" font-family=\"Helvetica,sans-Serif\" font-size=\"14.00\">value = [0, 15, 2]</text>\n",
       "<text text-anchor=\"middle\" x=\"407.5\" y=\"-230.8\" font-family=\"Helvetica,sans-Serif\" font-size=\"14.00\">class = versicolor</text>\n",
       "</g>\n",
       "<!-- 10&#45;&gt;11 -->\n",
       "<g id=\"edge11\" class=\"edge\"><title>10&#45;&gt;11</title>\n",
       "<path fill=\"none\" stroke=\"black\" d=\"M408.153,-341.907C408.082,-333.649 408.007,-324.864 407.934,-316.302\"/>\n",
       "<polygon fill=\"black\" stroke=\"black\" points=\"411.432,-315.99 407.846,-306.021 404.432,-316.05 411.432,-315.99\"/>\n",
       "</g>\n",
       "<!-- 14 -->\n",
       "<g id=\"node15\" class=\"node\"><title>14</title>\n",
       "<path fill=\"#8139e5\" stroke=\"black\" d=\"M622,-298.5C622,-298.5 525,-298.5 525,-298.5 519,-298.5 513,-292.5 513,-286.5 513,-286.5 513,-242.5 513,-242.5 513,-236.5 519,-230.5 525,-230.5 525,-230.5 622,-230.5 622,-230.5 628,-230.5 634,-236.5 634,-242.5 634,-242.5 634,-286.5 634,-286.5 634,-292.5 628,-298.5 622,-298.5\"/>\n",
       "<text text-anchor=\"middle\" x=\"573.5\" y=\"-283.3\" font-family=\"Helvetica,sans-Serif\" font-size=\"14.00\">gini = 0.0</text>\n",
       "<text text-anchor=\"middle\" x=\"573.5\" y=\"-268.3\" font-family=\"Helvetica,sans-Serif\" font-size=\"14.00\">samples = 20</text>\n",
       "<text text-anchor=\"middle\" x=\"573.5\" y=\"-253.3\" font-family=\"Helvetica,sans-Serif\" font-size=\"14.00\">value = [0, 0, 32]</text>\n",
       "<text text-anchor=\"middle\" x=\"573.5\" y=\"-238.3\" font-family=\"Helvetica,sans-Serif\" font-size=\"14.00\">class = virginica</text>\n",
       "</g>\n",
       "<!-- 10&#45;&gt;14 -->\n",
       "<g id=\"edge14\" class=\"edge\"><title>10&#45;&gt;14</title>\n",
       "<path fill=\"none\" stroke=\"black\" d=\"M465.746,-341.907C482.864,-329.769 501.586,-316.493 518.553,-304.462\"/>\n",
       "<polygon fill=\"black\" stroke=\"black\" points=\"520.593,-307.306 526.726,-298.667 516.544,-301.596 520.593,-307.306\"/>\n",
       "</g>\n",
       "<!-- 12 -->\n",
       "<g id=\"node13\" class=\"node\"><title>12</title>\n",
       "<path fill=\"#39e581\" stroke=\"black\" d=\"M454,-179.5C454,-179.5 351,-179.5 351,-179.5 345,-179.5 339,-173.5 339,-167.5 339,-167.5 339,-123.5 339,-123.5 339,-117.5 345,-111.5 351,-111.5 351,-111.5 454,-111.5 454,-111.5 460,-111.5 466,-117.5 466,-123.5 466,-123.5 466,-167.5 466,-167.5 466,-173.5 460,-179.5 454,-179.5\"/>\n",
       "<text text-anchor=\"middle\" x=\"402.5\" y=\"-164.3\" font-family=\"Helvetica,sans-Serif\" font-size=\"14.00\">gini = 0.0</text>\n",
       "<text text-anchor=\"middle\" x=\"402.5\" y=\"-149.3\" font-family=\"Helvetica,sans-Serif\" font-size=\"14.00\">samples = 9</text>\n",
       "<text text-anchor=\"middle\" x=\"402.5\" y=\"-134.3\" font-family=\"Helvetica,sans-Serif\" font-size=\"14.00\">value = [0, 15, 0]</text>\n",
       "<text text-anchor=\"middle\" x=\"402.5\" y=\"-119.3\" font-family=\"Helvetica,sans-Serif\" font-size=\"14.00\">class = versicolor</text>\n",
       "</g>\n",
       "<!-- 11&#45;&gt;12 -->\n",
       "<g id=\"edge12\" class=\"edge\"><title>11&#45;&gt;12</title>\n",
       "<path fill=\"none\" stroke=\"black\" d=\"M405.765,-222.907C405.308,-212.204 404.813,-200.615 404.349,-189.776\"/>\n",
       "<polygon fill=\"black\" stroke=\"black\" points=\"407.841,-189.508 403.917,-179.667 400.848,-189.807 407.841,-189.508\"/>\n",
       "</g>\n",
       "<!-- 13 -->\n",
       "<g id=\"node14\" class=\"node\"><title>13</title>\n",
       "<path fill=\"#8139e5\" stroke=\"black\" d=\"M588.5,-179.5C588.5,-179.5 496.5,-179.5 496.5,-179.5 490.5,-179.5 484.5,-173.5 484.5,-167.5 484.5,-167.5 484.5,-123.5 484.5,-123.5 484.5,-117.5 490.5,-111.5 496.5,-111.5 496.5,-111.5 588.5,-111.5 588.5,-111.5 594.5,-111.5 600.5,-117.5 600.5,-123.5 600.5,-123.5 600.5,-167.5 600.5,-167.5 600.5,-173.5 594.5,-179.5 588.5,-179.5\"/>\n",
       "<text text-anchor=\"middle\" x=\"542.5\" y=\"-164.3\" font-family=\"Helvetica,sans-Serif\" font-size=\"14.00\">gini = 0.0</text>\n",
       "<text text-anchor=\"middle\" x=\"542.5\" y=\"-149.3\" font-family=\"Helvetica,sans-Serif\" font-size=\"14.00\">samples = 1</text>\n",
       "<text text-anchor=\"middle\" x=\"542.5\" y=\"-134.3\" font-family=\"Helvetica,sans-Serif\" font-size=\"14.00\">value = [0, 0, 2]</text>\n",
       "<text text-anchor=\"middle\" x=\"542.5\" y=\"-119.3\" font-family=\"Helvetica,sans-Serif\" font-size=\"14.00\">class = virginica</text>\n",
       "</g>\n",
       "<!-- 11&#45;&gt;13 -->\n",
       "<g id=\"edge13\" class=\"edge\"><title>11&#45;&gt;13</title>\n",
       "<path fill=\"none\" stroke=\"black\" d=\"M454.338,-222.907C467.961,-211.101 482.827,-198.217 496.404,-186.45\"/>\n",
       "<polygon fill=\"black\" stroke=\"black\" points=\"498.966,-188.861 504.23,-179.667 494.381,-183.571 498.966,-188.861\"/>\n",
       "</g>\n",
       "</g>\n",
       "</svg>\n"
      ],
      "text/plain": [
       "<graphviz.sources.Source at 0x1bee4bdfc90>"
      ]
     },
     "execution_count": 66,
     "metadata": {},
     "output_type": "execute_result"
    }
   ],
   "source": [
    "import graphviz\n",
    "# GRAPHVIZ SHOULD BE DONE BEFORE RUN**IF NOT RETURNS AN ERROR\n",
    "from random import randrange\n",
    "\n",
    "#RANDOM FROM RF 0-9\n",
    "#CHOSENONE IS RANDOM!!!! --GIVE DIFFERENT OUTPUT-VISUAL EVERY TIME ---WHICH EXPECTED FROM US ACCORDING TO DOCUMENT\n",
    "chosenone = model.estimators_[randrange(10)]\n",
    "\n",
    "#DEC TREE GENERATE\n",
    "dot_data = export_graphviz(chosenone, out_file=None, \n",
    "                feature_names = irisData.feature_names,\n",
    "                class_names = irisData.target_names,\n",
    "                rounded = True, proportion = False, \n",
    "                precision = 2, filled = True)\n",
    "\n",
    "graph = graphviz.Source(dot_data)\n",
    "graph"
   ]
  },
  {
   "cell_type": "code",
   "execution_count": null,
   "id": "8fb6b5b0",
   "metadata": {},
   "outputs": [],
   "source": [
    "#FINITO"
   ]
  }
 ],
 "metadata": {
  "kernelspec": {
   "display_name": "Python 3 (ipykernel)",
   "language": "python",
   "name": "python3"
  },
  "language_info": {
   "codemirror_mode": {
    "name": "ipython",
    "version": 3
   },
   "file_extension": ".py",
   "mimetype": "text/x-python",
   "name": "python",
   "nbconvert_exporter": "python",
   "pygments_lexer": "ipython3",
   "version": "3.11.0"
  }
 },
 "nbformat": 4,
 "nbformat_minor": 5
}
